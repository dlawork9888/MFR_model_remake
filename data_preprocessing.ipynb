{
 "cells": [
  {
   "cell_type": "markdown",
   "id": "aec0c75d-8674-4639-b454-aba0ceabf8ed",
   "metadata": {},
   "source": [
    "# Data Preprocessing\n",
    "## MFCC 추출 및 레이블 작업\n",
    "- 기존에 사용했던 Chromagram, Tempogram을 제외하고 오직 MFCC만으로 !\n",
    "- 대신 MFCC의 계수를 20개에서 40개로 늘렸음!"
   ]
  },
  {
   "cell_type": "code",
   "execution_count": 32,
   "id": "84a911db-d854-4d43-a6c8-816d49101a30",
   "metadata": {},
   "outputs": [],
   "source": [
    "import librosa\n",
    "import numpy as np\n",
    "import os\n",
    "\n",
    "def ext_mfcc(file_path):\n",
    "    \n",
    "    y, sr = librosa.load(file_path)\n",
    "    mfcc = librosa.feature.mfcc(y = y, sr = sr, n_mfcc = 40)\n",
    "    mfcc = mfcc[:,:1200] # 데이터 크기 => 앞의 1200 프레임만 보자!\n",
    "    return mfcc"
   ]
  },
  {
   "cell_type": "code",
   "execution_count": 33,
   "id": "c96cf0cf-13f2-4881-8817-03b5b9499e27",
   "metadata": {},
   "outputs": [
    {
     "name": "stdout",
     "output_type": "stream",
     "text": [
      "extracted_mfccs.shape: (1000, 40, 1200)\n",
      "labels.shape: (1000, 10)\n"
     ]
    }
   ],
   "source": [
    "from IPython.display import clear_output # for clear prints\n",
    "\n",
    "data_folder = 'music_raw_data'\n",
    "extracted_mfccs = []\n",
    "labels = [] # one hot encoding\n",
    "\n",
    "genre_count = -1 # for labeling\n",
    "for subfolder in os.listdir(data_folder):\n",
    "    genre_count += 1\n",
    "    genre = subfolder\n",
    "    subfolder_path = os.path.join(data_folder,subfolder)\n",
    "    for file in os.listdir(subfolder_path):\n",
    "        # .ipynb_checkpoints 무시\n",
    "        if file == '.ipynb_checkpoints':\n",
    "            continue\n",
    "        print(f'now_file: {file}')\n",
    "        file_path = os.path.join(data_folder,subfolder,file)\n",
    "        \n",
    "        # label 작업\n",
    "        label = np.zeros(10)\n",
    "        label[genre_count] = 1\n",
    "        print(f'label: {label}')\n",
    "        label = np.expand_dims(label, axis = 0) # for concat\n",
    "        print(f'label.shape: {label.shape}')\n",
    "        labels.append(label)\n",
    "\n",
    "        # MFCC 추출\n",
    "        mfcc = ext_mfcc(file_path)\n",
    "        mfcc = np.expand_dims(mfcc, axis = 0) # for concat\n",
    "        print(f'mfcc.shape: {mfcc.shape}')\n",
    "        extracted_mfccs.append(mfcc)\n",
    "\n",
    "        clear_output()\n",
    "\n",
    "# concat\n",
    "extracted_mfccs = np.concatenate(extracted_mfccs, axis = 0)\n",
    "labels = np.concatenate(labels, axis = 0)\n",
    "\n",
    "print(f'extracted_mfccs.shape: {extracted_mfccs.shape}')\n",
    "print(f'labels.shape: {labels.shape}')\n",
    "\n",
    "# 저장\n",
    "np.savez(\"extracted_mfccs_and_labels.npz\", mfccs = extracted_mfccs, labels = labels)"
   ]
  },
  {
   "cell_type": "code",
   "execution_count": null,
   "id": "e2cb1de7-31fc-48aa-921a-2224dd9106fb",
   "metadata": {},
   "outputs": [],
   "source": []
  }
 ],
 "metadata": {
  "kernelspec": {
   "display_name": "Python 3 (ipykernel)",
   "language": "python",
   "name": "python3"
  },
  "language_info": {
   "codemirror_mode": {
    "name": "ipython",
    "version": 3
   },
   "file_extension": ".py",
   "mimetype": "text/x-python",
   "name": "python",
   "nbconvert_exporter": "python",
   "pygments_lexer": "ipython3",
   "version": "3.10.11"
  }
 },
 "nbformat": 4,
 "nbformat_minor": 5
}
